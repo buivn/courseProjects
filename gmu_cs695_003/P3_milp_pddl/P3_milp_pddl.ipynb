{
  "cells": [
    {
      "cell_type": "markdown",
      "id": "dff249fa",
      "metadata": {
        "id": "dff249fa"
      },
      "source": [
        "# P3: Optimization and PDDL\n",
        "\n",
        "[Instructions are the same as last time.]\n",
        "\n",
        "You are *highly recommended* to LaTeX your solutions to this assignment and use the 10pt, 2-column `ieeeconf` template. You can find the template [on Overleaf](https://www.overleaf.com/latex/templates/preparation-of-papers-for-ieee-sponsored-conferences-and-symposia/zfnqfzzzxghk); Overleaf is an online LaTeX editor with a free tier, so feel free to use that service to compose your writeups. It is perhaps the easiest option, particularly if you are not as familiar with LaTeX. While there is no space limit, please try to keep your plots compact so that they do not consume an enormous amount of space; mostly this helps readability (and therefore grading). You are allowed to work in small groups (2 or 3 students), but your solutions and your writeup should be your own.\n",
        "\n",
        "With these homework assignments, I expect that your solutions will be written as if they are research papers: though the content is not \"new\", you should be trying to convince me through your writing that you have implemented and understand the algorithms. You should write in full sentences. When appropriate, comment on when the algorithms succeed or fail and where they are more or less effective; include numbers/metrics (quantitative) in addition to discussion (qualitative) whenever possible. Just like in a published paper, you should not include code snippets in your writeup unless it is explicitly asked for or you think it helps you explain your results or answer the question. **I will ask you to submit both the PDF of your writeup *and* a .zip file containing your code (which may be a modified form of this Jupyter notebook) on Blackboard. Unless asked, do not include code in your writeup. You should present your results well enough that I trust your implementation was sufficient.** Though it would be nice if your code were cleaned up and nicely formatted/commented, we will are only likely to run your code to evaluate partial credit or unless we are skeptical for academic integrity reasons.\n",
        "\n",
        "You are welcome to work in small groups of 2 or 3 students, but please write your solutions independently: I would like your answers to the more conceptual questions to be in your own words, even if you discussed the answers with others.\n",
        "\n",
        "You will be graded on your included plots and answers to conceptual questions. Your code will not be directly graded or evaluated. You can receive partial credit on pretty much everything, and I try to be a fair as possible: giving you a grade that I think reflects your level of understanding of the material. Note that while I appreciate you submitting plots that you *know* are probably not quite right, it can be hard for me to evaluate partial credit if things are not quite working; in this case, try to include in your response a guess of where you think your solution didn't work. This will help me know when to give you more credit on your responses."
      ]
    },
    {
      "cell_type": "markdown",
      "id": "45df1cec",
      "metadata": {
        "id": "45df1cec"
      },
      "source": [
        "## P3.1 Introduction to constraint-based Optimization\n",
        "\n",
        "In this problem (a duplicate of much of the content from the L05 breakout session) we'll play around a bit with constraint-based optimization and some other knowledge prerequisite for your programming assignment. First, we will explore [Google's OR-Tools python package](https://developers.google.com/optimization) that has a lot of convenient utilities for solving Linear Programs (LPs) and Mixed Integer Linear Programs (MILPs).\n",
        "\n",
        "In the following code block, I have given you a worked example that uses `ortools` to solve a MILP:\n",
        "\n",
        "$$\n",
        "\\begin{split}\n",
        "\\text{max}\\,\\,\\, & z = x_1 + 2 x_2 = (1, 2) \\cdot (x_1, x_2) \\\\\n",
        " \\text{s.t.}\\,\\,\\, & x_1 \\leq 3, \\\\\n",
        " & x_1 + x_2 \\leq 5, \\\\\n",
        " & x_1, x_2 \\geq 0\n",
        "\\end{split}\n",
        "$$\n",
        "\n",
        "**TASK** Run the following code block to confirm that the code works as expected:"
      ]
    },
    {
      "cell_type": "code",
      "source": [
        "!pip3 install ortools"
      ],
      "metadata": {
        "colab": {
          "base_uri": "https://localhost:8080/"
        },
        "id": "Ps0ydm60XFbU",
        "outputId": "3b412e0e-944e-4ec7-a6b4-dd26eef2ddfb"
      },
      "id": "Ps0ydm60XFbU",
      "execution_count": 1,
      "outputs": [
        {
          "output_type": "stream",
          "name": "stdout",
          "text": [
            "Requirement already satisfied: ortools in /usr/local/lib/python3.7/dist-packages (9.3.10459)\n",
            "Requirement already satisfied: protobuf>=3.19.4 in /usr/local/lib/python3.7/dist-packages (from ortools) (3.19.4)\n",
            "Requirement already satisfied: numpy>=1.13.3 in /usr/local/lib/python3.7/dist-packages (from ortools) (1.21.5)\n",
            "Requirement already satisfied: absl-py>=0.13 in /usr/local/lib/python3.7/dist-packages (from ortools) (1.0.0)\n",
            "Requirement already satisfied: six in /usr/local/lib/python3.7/dist-packages (from absl-py>=0.13->ortools) (1.15.0)\n"
          ]
        }
      ]
    },
    {
      "cell_type": "code",
      "execution_count": 2,
      "id": "7fdea5d4",
      "metadata": {
        "colab": {
          "base_uri": "https://localhost:8080/"
        },
        "id": "7fdea5d4",
        "outputId": "96427f63-ef78-4cf1-a39b-1890e6e89687"
      },
      "outputs": [
        {
          "output_type": "stream",
          "name": "stdout",
          "text": [
            "Solution:\n",
            "  Objective value:  10.0\n",
            "  Number of variables:  2\n",
            "    x1 == 0.0\n",
            "    x2 == 5.0\n"
          ]
        }
      ],
      "source": [
        "from ortools.linear_solver import pywraplp\n",
        "\n",
        "solver = pywraplp.Solver.CreateSolver('SCIP')\n",
        "infinity = solver.infinity()\n",
        "\n",
        "# Define your variables (and their domains)\n",
        "x1 = solver.NumVar(0, infinity, 'x1')\n",
        "x2 = solver.NumVar(0, infinity, 'x2')\n",
        "\n",
        "# Add the constraints and the objective\n",
        "solver.Add(x1 <= 3)\n",
        "solver.Add(x1 + x2 <= 5)\n",
        "solver.Maximize(x1 + 2 * x2)\n",
        "\n",
        "# Solve\n",
        "status = solver.Solve()\n",
        "\n",
        "# Print the outputs\n",
        "if status == pywraplp.Solver.OPTIMAL:\n",
        "    print('Solution:')\n",
        "    print('  Objective value: ', solver.Objective().Value())\n",
        "    print('  Number of variables: ', solver.NumVariables())\n",
        "    for var in solver.variables():\n",
        "        print(f'    {var.name()} == {var.solution_value()}')\n",
        "else:\n",
        "    print('The problem does not have an optimal solution.')"
      ]
    },
    {
      "cell_type": "markdown",
      "id": "f79b49fc",
      "metadata": {
        "id": "f79b49fc"
      },
      "source": [
        "## P3.1.1 Implementing Some Example Programs [4 points]\n",
        "\n",
        "**TASK** Implement the following two mixed-integer linear programs:\n",
        "\n",
        "Program 1:\n",
        "$$\n",
        "\\begin{split}\n",
        "\\text{max}\\,\\,\\, & z = x_1 + 2 x_2 + x_4\\\\\n",
        " \\text{s.t.}\\,\\,\\, & x_1 + x_2 + x_3 = 3, \\\\\n",
        " & x_1 + x_2 + x_4 \\leq 5, \\\\\n",
        " & x_3 \\geq 1 \\\\\n",
        " & x_1, x_2, x_4 \\geq 0\n",
        "\\end{split}\n",
        "$$\n",
        "\n",
        "Program 2:\n",
        "$$\n",
        "\\begin{split}\n",
        "\\text{max}\\,\\,\\, & z = 3 x_1 + 5 x_2 \\\\\n",
        " \\text{s.t.}\\,\\,\\, & x_1 \\leq 4, \\\\\n",
        " & 2 x_2 \\leq 12, \\\\\n",
        " & 3 x_1 + 2 x_2 \\leq 18 \\\\\n",
        " & x_1, x_2 \\geq 0\n",
        "\\end{split}\n",
        "$$\n",
        "\n",
        "**RESULTS** Include in your writeup the value of the overall objective and the values of the different variables."
      ]
    },
    {
      "cell_type": "code",
      "source": [
        "solver = pywraplp.Solver.CreateSolver('SCIP')\n",
        "infinity = solver.infinity()\n",
        "# Define your variables (and their domains)\n",
        "x1 = solver.NumVar(0, infinity, 'x1')\n",
        "x2 = solver.NumVar(0, infinity, 'x2')\n",
        "x3 = solver.NumVar(1, infinity, 'x3')\n",
        "x4 = solver.NumVar(0, infinity, 'x4')\n",
        "\n",
        "# Add the constraints and the objective\n",
        "# solver.Add(x1 <= 3)\n",
        "solver.Add(x1 + x2 +x3 == 3)\n",
        "solver.Add(x1 + x2 + x4 <=5)\n",
        "solver.Maximize(x1 + 2*x2 + x4)\n",
        "\n",
        "# Solve\n",
        "status = solver.Solve()\n",
        "\n",
        "# Print the outputs\n",
        "if status == pywraplp.Solver.OPTIMAL:\n",
        "    print('Solution:')\n",
        "    print('  Objective value: ', solver.Objective().Value())\n",
        "    print('  Number of variables: ', solver.NumVariables())\n",
        "    for var in solver.variables():\n",
        "        print(f'    {var.name()} == {var.solution_value()}')\n",
        "else:\n",
        "    print('The problem does not have an optimal solution.')"
      ],
      "metadata": {
        "colab": {
          "base_uri": "https://localhost:8080/"
        },
        "id": "ufgmdAb8X66c",
        "outputId": "3c7064ed-ab86-43f6-9209-640aae2b14e9"
      },
      "id": "ufgmdAb8X66c",
      "execution_count": 3,
      "outputs": [
        {
          "output_type": "stream",
          "name": "stdout",
          "text": [
            "Solution:\n",
            "  Objective value:  7.0\n",
            "  Number of variables:  4\n",
            "    x1 == 0.0\n",
            "    x2 == 2.0\n",
            "    x3 == 1.0\n",
            "    x4 == 3.0\n"
          ]
        }
      ]
    },
    {
      "cell_type": "code",
      "source": [
        "solver = pywraplp.Solver.CreateSolver('SCIP')\n",
        "infinity = solver.infinity()\n",
        "# Define your variables (and their domains)\n",
        "x31 = solver.NumVar(0, infinity, 'x31')\n",
        "x32 = solver.NumVar(0, infinity, 'x32')\n",
        "# x3 = solver.NumVar(1, infinity, 'x3')\n",
        "# x4 = solver.NumVar(0, infinity, 'x4')\n",
        "\n",
        "# Add the constraints and the objective\n",
        "solver.Add(x31 <= 4)\n",
        "solver.Add(x32 <= 6)\n",
        "solver.Add(3*x31 + 2*x32 <= 18)\n",
        "solver.Maximize(3*x31 + 5*x32)\n",
        "\n",
        "# Solve\n",
        "status = solver.Solve()\n",
        "\n",
        "# Print the outputs\n",
        "if status == pywraplp.Solver.OPTIMAL:\n",
        "    print('Solution:')\n",
        "    print('  Objective value: ', solver.Objective().Value())\n",
        "    print('  Number of variables: ', solver.NumVariables())\n",
        "    for var in solver.variables():\n",
        "        print(f'    {var.name()} == {var.solution_value()}')\n",
        "else:\n",
        "    print('The problem does not have an optimal solution.')"
      ],
      "metadata": {
        "colab": {
          "base_uri": "https://localhost:8080/"
        },
        "id": "Xvq-2s7gZpM8",
        "outputId": "7bfaa71e-15fc-4bae-cbfe-9be3ef4ffc30"
      },
      "id": "Xvq-2s7gZpM8",
      "execution_count": 4,
      "outputs": [
        {
          "output_type": "stream",
          "name": "stdout",
          "text": [
            "Solution:\n",
            "  Objective value:  36.0\n",
            "  Number of variables:  2\n",
            "    x31 == 2.0\n",
            "    x32 == 6.0\n"
          ]
        }
      ]
    },
    {
      "cell_type": "markdown",
      "id": "eabdaddb",
      "metadata": {
        "id": "eabdaddb"
      },
      "source": [
        "## P3.1.2 A word problem [8 points]\n",
        "\n",
        "[Question adapted from [CMU 15.381](http://www.cs.cmu.edu/~15381-s19/assignments/written/hw2_blank.pdf)]\n",
        "\n",
        "The Two Mines Company own two different mines that produce an ore which, after being crushed, is graded into three classes: high-, medium- and low-grade. The company has contracted to provide a smelting plant with at least 12 tons of high-grade, at least 8 tons of medium-grade and at least 24 tons of low-grade ore per week. The two mines have different operating characteristics as detailed below. Additionally, we cannot work the same mine for more than 6 days a week.\n",
        "\n",
        "\n",
        "Here is a table including the costs and yields associated with running each of the two mines:\n",
        "\n",
        "| Mine Name | Cost/day | High-grade yield / day | Medium-grade yield / day | Low-grade yield / day |\n",
        "| --- | --- | --- | --- | --- |\n",
        "| Heigh Ho | 180 | 4 | 5 | 4 |\n",
        "| Kessel | 160 | 2 | 4 | 8 |\n",
        "\n",
        "How many days per week should each mine be operated to fulfill the smelting plant contract while minimizing the total cost? *Note: We have (implicitly) assumed that it is permissible to work in fractions of days; it is not possible to work less than 0 days on any part of the mines.*\n",
        "\n",
        "**QUESTION** How many variables are there in the MILP? How many constraints?\n",
        "\n",
        "**TASK** Convert the word problem into a MILP and implement it using `ortools`.\n",
        "\n",
        "**CODE** Include your implementation of the MILP in your writeup (if you would like, you can instead include the LaTeX equation form).\n",
        "\n",
        "**RESULTS** Solve the MILP. Include (1) the value of the objective being minimized and (2) the value of each of the variables in your writeup."
      ]
    },
    {
      "cell_type": "markdown",
      "source": [
        "$x_1$ is the number of work's day at mine Heigh Ho \\\\\n",
        "$x_2$ is the number of work's day at mine Kessel\n",
        "$$\n",
        "\\begin{split}\n",
        "\\text{min}\\,\\,\\, & z = 180 x_1 + 160 x_2 \\\\\n",
        " \\text{s.t.}\\,\\,\\, & 0 \\leq x_1 \\leq 6, \\\\\n",
        " & 0 \\leq x_2 \\leq 6, \\\\\n",
        " & 4 x_1 + 2 x_2 \\geq 12, \\\\\n",
        " & 5 x_1 + 4 x_2 \\geq 8, \\\\\n",
        " & 4 x_1 + 8 x_2 \\geq 24, \\\\\n",
        "\\end{split}\n",
        "$$"
      ],
      "metadata": {
        "id": "c0e5cOtmVS8F"
      },
      "id": "c0e5cOtmVS8F"
    },
    {
      "cell_type": "code",
      "source": [
        "solver = pywraplp.Solver.CreateSolver('SCIP')\n",
        "infinity = solver.infinity()\n",
        "# Define your variables (and their domains)\n",
        "x1 = solver.NumVar(0, 6, 'x1')\n",
        "x2 = solver.NumVar(0, 6, 'x2')\n",
        "\n",
        "# Add the constraints and the objective\n",
        "solver.Add(4*x1 + 2*x2 >= 12)\n",
        "solver.Add(5*x1 + 4*x2 >= 8)\n",
        "solver.Add(4*x1 + 8*x2 >= 24)\n",
        "solver.Minimize(180*x1 + 160*x2)\n",
        "\n",
        "# Solve\n",
        "status = solver.Solve()\n",
        "\n",
        "# Print the outputs\n",
        "if status == pywraplp.Solver.OPTIMAL:\n",
        "    print('Solution:')\n",
        "    print('  Objective value: ', solver.Objective().Value())\n",
        "    print('  Number of variables: ', solver.NumVariables())\n",
        "    for var in solver.variables():\n",
        "        print(f' {var.name()} == {var.solution_value()}')\n",
        "else:\n",
        "    print('The problem does not have an optimal solution.')"
      ],
      "metadata": {
        "colab": {
          "base_uri": "https://localhost:8080/"
        },
        "id": "7oqL0fCPT_WA",
        "outputId": "bfd6f7d6-7815-406f-9a18-7cba3404f5dd"
      },
      "id": "7oqL0fCPT_WA",
      "execution_count": 3,
      "outputs": [
        {
          "output_type": "stream",
          "name": "stdout",
          "text": [
            "Solution:\n",
            "  Objective value:  680.0000000000001\n",
            "  Number of variables:  2\n",
            " x1 == 2.0\n",
            " x2 == 1.9999999999999996\n"
          ]
        }
      ]
    },
    {
      "cell_type": "markdown",
      "id": "8ee41392",
      "metadata": {
        "id": "8ee41392"
      },
      "source": [
        "## P3.2 Trajectory Optimization with MILPs\n",
        "\n",
        "\n",
        "### P3.2.1 Computing a Trajectory Given Thrusts [4 points]\n",
        "\n",
        "Before we get to optimization, we will start by computing the trajectory of a simple 1D space vehicle given known thrusts. Given known thrusts and an initial position and velocity it is possible to compute the position and velocity of the vehicle at all times. Below, I have provided you with some starter code that provides you with `x0 = [position, velocity]` and a list of thrusts `us` at every time.\n",
        "\n",
        "The following line of linear algebra represents the update rule between steps:\n",
        "\n",
        "$$ x_{t+1} = A_d x_t + B_d u_t $$\n",
        "\n",
        "**TASK** Complete the code below by replacing the `NotImplementedError` with linear algebra. See the lecture slides for more details about the geometry.\n",
        "\n",
        "The final position is -1.375 and the final velocity is 0.0. Be sure that your implementation matches these values.\n",
        "\n",
        "**PLOTS** Run the plotting code below your completed implementation and include the resulting plots in your writeup."
      ]
    },
    {
      "cell_type": "code",
      "execution_count": 4,
      "id": "baa24154",
      "metadata": {
        "id": "baa24154"
      },
      "outputs": [],
      "source": [
        "## Breaking down an example without optimization\n",
        "\n",
        "import numpy as np\n",
        "import matplotlib.pyplot as plt\n",
        "\n",
        "num_steps = 100\n",
        "T = 25\n",
        "dt = T / num_steps\n",
        "\n",
        "# Define the matrices\n",
        "Ad = np.array([[1, dt],\n",
        "               [0, 1]])\n",
        "dt2 = dt*dt/2\n",
        "Bd = np.array([[dt2, -dt2],\n",
        "               [dt, -dt]])\n",
        "\n",
        "# Define the starting condition & control input\n",
        "x0 = [3, -2]\n",
        "us = np.array([[0.2, 0]]*50 + [[0, 0]]*30 + [[0, 0.1]]*20)\n",
        "\n",
        "# TODO: Compute each state from the initial state and the thrust values\n",
        "# Output: 'xs' is expected to be a list of 'x' position/velocities over time\n",
        "def solve(x0):\n",
        "    x = x0\n",
        "    xs = [x]\n",
        "    for u in us:\n",
        "        x = np.matmul(Ad, x) + np.matmul(Bd, u)\n",
        "        # raise NotImplementedError()\n",
        "        xs.append(x)\n",
        "\n",
        "    return np.array(xs)"
      ]
    },
    {
      "cell_type": "code",
      "execution_count": 9,
      "id": "23796031",
      "metadata": {
        "id": "23796031",
        "colab": {
          "base_uri": "https://localhost:8080/",
          "height": 370
        },
        "outputId": "b422c18c-2122-4332-88bc-01689315d5e3"
      },
      "outputs": [
        {
          "output_type": "stream",
          "name": "stdout",
          "text": [
            "Final Position=-1.375 and Velocitiy=0.000\n"
          ]
        },
        {
          "output_type": "display_data",
          "data": {
            "text/plain": [
              "<Figure size 600x600 with 2 Axes>"
            ],
            "image/png": "[encoded data removed]"
          },
          "metadata": {
            "needs_background": "light"
          }
        }
      ],
      "source": [
        "# Plotting Code  \n",
        "xs = solve(x0)\n",
        "\n",
        "print(f\"Final Position={xs[-1, 0]:.3f} and Velocitiy={xs[-1, 1]:.3f}\")\n",
        "fig = plt.figure(figsize=(6, 6), dpi=100)\n",
        "ax = plt.subplot(311)\n",
        "ax.grid()\n",
        "ax.plot(range(len(us) + 1), xs[:, 0])\n",
        "ax.set_ylabel(\"Position\")\n",
        "ax = plt.subplot(312)\n",
        "ax.grid()\n",
        "ax.plot(range(len(us) + 1), xs[:, 1])\n",
        "ax.set_ylabel(\"Velocity\")\n",
        "# ax = plt.subplot(313)\n",
        "# ax.plot(range(len(us)), us[:, 0] - us[:, 1])\n",
        "# ax.set_ylabel(\"Velocity\")\n",
        "# ax.grid()\n",
        "\n",
        "# Position check\n",
        "assert abs(xs[-1, 0] + 1.375) < 1e-5\n",
        "# Velocity check\n",
        "assert abs(xs[-1, 1]) < 1e-5\n",
        "\n",
        "None"
      ]
    },
    {
      "cell_type": "markdown",
      "id": "87c294b4",
      "metadata": {
        "id": "87c294b4"
      },
      "source": [
        "### P3.2.2 Trajectory Optimization [4 points]\n",
        "\n",
        "Below, I have provided you with starter code for trajectory optimization.\n",
        "\n",
        "**TASK** Using your solution to the previous question, resolve the NotImplementedErrors in the `build_solver` function below. *Note:* because the `us` are no longer numpy arrays, you cannot use numpy operations to perform your linear algebra operations. I have provided you with `vec_add`, `dot`, `matmul` functions that you may use in their place.\n",
        "\n",
        "**PLOTS** Run the plotting code below and include the plots in your writeup. (There should be a total of 4.)\n",
        "\n",
        "**QUESTION** (2–5 sentences) How does the objective value change as the number of steps change. Why?"
      ]
    },
    {
      "cell_type": "code",
      "execution_count": 72,
      "id": "b14aed53",
      "metadata": {
        "id": "b14aed53"
      },
      "outputs": [],
      "source": [
        "# Starter Code: 2D Trajectory Optimization\n",
        "import matplotlib.patches as patches\n",
        "import matplotlib.pyplot as plt\n",
        "import numpy as np\n",
        "from ortools.linear_solver import pywraplp\n",
        "\n",
        "\n",
        "def vec_add(vec_a, vec_b):\n",
        "    return [ai + bi for ai, bi in zip(vec_a, vec_b)]\n",
        "\n",
        "\n",
        "def dot(vec_a, vec_b):\n",
        "    return sum([av * bv for av, bv in zip(vec_a, vec_b)])\n",
        "\n",
        "\n",
        "def matmul(mat, vec):\n",
        "    return [dot(mat_r, vec) for mat_r in mat]\n",
        "\n",
        "\n",
        "def get_propagation_matrices(dt):\n",
        "    # Define the matrices (matrices from class)\n",
        "    Ad = np.array([[1, 0, dt, 0],\n",
        "         [0, 1, 0, dt],\n",
        "         [0, 0, 1, 0],\n",
        "         [0, 0, 0, 1]])\n",
        "    dt2 = dt*dt/2\n",
        "    Bd = np.array([\n",
        "        [dt2, 0, -dt2, 0],\n",
        "        [0, dt2, 0, -dt2],\n",
        "        [dt, 0, -dt, 0],\n",
        "        [0, dt, 0, -dt]])\n",
        "    return Ad, Bd\n",
        "\n",
        "\n",
        "def build_solver(umax, x0, T, num_steps, obstacles=[]):\n",
        "    solver = pywraplp.Solver.CreateSolver('SCIP')\n",
        "    infinity = solver.infinity()\n",
        "    dt = T / num_steps\n",
        "    Ad, Bd = get_propagation_matrices(dt)\n",
        "\n",
        "    # Define the control variables\n",
        "    us = [[solver.NumVar(0, infinity, f'u_{step}_{side}') \n",
        "           for side in range(4)]\n",
        "           for step in range(num_steps)]\n",
        "    # print(us)\n",
        "    # Compute each state from the initial state and the thrust values\n",
        "    x = x0\n",
        "    xs = [x]\n",
        "    for u in us:\n",
        "        x = vec_add(matmul(Ad, x), matmul(Bd, u))\n",
        "        # raise NotImplementedError()\n",
        "        xs.append(x)\n",
        "    # print(xs[-1])\n",
        "    # Add the targets for the final state and thrust\n",
        "    for dim in range(4):\n",
        "        solver.Add(xs[-1][dim] == 0)\n",
        "\n",
        "    # Constraints on the amount of thrust\n",
        "    for side in range(4):\n",
        "        for step in range(num_steps):\n",
        "            solver.Add(us[step][side] <= umax)\n",
        "            solver.Add(us[step][side] >= 0)\n",
        "    # solver.Add(us == 0)\n",
        "    # raise NotImplementedError()\n",
        "    # Define the parameters\n",
        "    bs = [[solver.NumVar(0, 1, f'b_{step}_{side}') \n",
        "           for side in range(4)]\n",
        "           for step in range(num_steps)]\n",
        "    M = 100000\n",
        "    for ob in obstacles:\n",
        "      for i in range(1,len(xs)):\n",
        "          # print(i)\n",
        "          solver.Add(xs[i][0] - ob[0] - M*bs[i-1][0] <= 0)\n",
        "          solver.Add(xs[i][0] - ob[1] + M*bs[i-1][1] >= 0)\n",
        "          solver.Add(xs[i][1] - ob[2] - M*bs[i-1][2] <= 0)\n",
        "          solver.Add(xs[i][1] - ob[3] + M*bs[i-1][3] >= 0)\n",
        "          solver.Add(bs[i-1][0] + bs[i-1][1] + bs[i-1][2]+ bs[i-1][3] <= 3)\n",
        "           \n",
        "\n",
        "    solver.Minimize(dt * sum([sum(u) for u in us]))\n",
        "\n",
        "    return solver, us\n",
        "\n",
        "\n",
        "def replace_and_plot(x0, us, solver, T, num_steps, obstacles=[]):\n",
        "    \"\"\"Substitute solved values and plot.\"\"\"\n",
        "    x = np.array(x0)\n",
        "    dt = T / num_steps\n",
        "    Ad, Bd = get_propagation_matrices(dt)\n",
        "    xsv = [x]\n",
        "    usv =  [[us[step][side].solution_value() for side in range(4)] for step in range(num_steps)]\n",
        "    for uv in usv:\n",
        "        x = vec_add(matmul(Ad, x), matmul(Bd, uv))\n",
        "        xsv.append(x)\n",
        "\n",
        "    objective_value = solver.Objective().Value()\n",
        "    print(f'Objective value = {objective_value}')\n",
        "\n",
        "    fig, ax = plt.subplots()\n",
        "    xsv = np.array(xsv)\n",
        "    ax.plot(xsv[:, 0], xsv[:, 1], 'r', alpha=0.3)\n",
        "    ax.scatter(xsv[:, 0], xsv[:, 1], c=list(range(num_steps+1)), s=5)\n",
        "    ax.set_aspect('equal', 'box')\n",
        "    \n",
        "    for ob in obstacles:\n",
        "        ax.add_patch(patches.Rectangle(\n",
        "            (ob[0], ob[2]), ob[1] - ob[0], ob[3] - ob[2],\n",
        "            linewidth=1, edgecolor='k', facecolor='none'))\n",
        "\n",
        "    return objective_value"
      ]
    },
    {
      "cell_type": "markdown",
      "source": [
        "#### check"
      ],
      "metadata": {
        "id": "suQAk5niJAyD"
      },
      "id": "suQAk5niJAyD"
    },
    {
      "cell_type": "code",
      "execution_count": 73,
      "id": "7e35980a",
      "metadata": {
        "id": "7e35980a",
        "colab": {
          "base_uri": "https://localhost:8080/",
          "height": 159
        },
        "outputId": "72a87e50-4d42-4a0f-daf9-fe5e3adc7de6"
      },
      "outputs": [
        {
          "output_type": "stream",
          "name": "stdout",
          "text": [
            "Objective value = 3.553571428571429\n",
            "Objective value = 3.500582750582752\n",
            "Objective value = 3.4968502761606186\n"
          ]
        },
        {
          "output_type": "display_data",
          "data": {
            "text/plain": [
              "<Figure size 432x288 with 1 Axes>"
            ],
            "image/png": "[encoded data removed]"
          },
          "metadata": {
            "needs_background": "light"
          }
        },
        {
          "output_type": "display_data",
          "data": {
            "text/plain": [
              "<Figure size 432x288 with 1 Axes>"
            ],
            "image/png": "[encoded data removed]"
          },
          "metadata": {
            "needs_background": "light"
          }
        },
        {
          "output_type": "display_data",
          "data": {
            "text/plain": [
              "<Figure size 432x288 with 1 Axes>"
            ],
            "image/png": "[encoded data removed]"
          },
          "metadata": {
            "needs_background": "light"
          }
        },
        {
          "output_type": "display_data",
          "data": {
            "text/plain": [
              "<Figure size 432x288 with 1 Axes>"
            ],
            "image/png": "[encoded data removed]"
          },
          "metadata": {
            "needs_background": "light"
          }
        }
      ],
      "source": [
        "# Parameters\n",
        "num_steps = 50\n",
        "T = 25\n",
        "umax = 0.4\n",
        "x0 = [2, 3, 1, -2]\n",
        "\n",
        "# Compute the result and plot (with 10 steps)\n",
        "solver, us = build_solver(umax, x0, T, 10)\n",
        "status = solver.Solve()\n",
        "replace_and_plot(x0, us, solver, T, 10)\n",
        "plt.title(\"Steps = 10\")\n",
        "\n",
        "# Compute the result and plot (with 50 steps)\n",
        "solver, us = build_solver(umax, x0, T, 50)\n",
        "status = solver.Solve()\n",
        "replace_and_plot(x0, us, solver, T, 50)\n",
        "plt.title(\"Steps = 50\")\n",
        "\n",
        "# Compute the result and plot (with 100 steps)\n",
        "solver, us = build_solver(umax, x0, T, 100)\n",
        "status = solver.Solve()\n",
        "replace_and_plot(x0, us, solver, T, 100)\n",
        "plt.title(\"Steps = 100\")\n",
        "\n",
        "# Comptue the optimization objective as a function of\n",
        "steps = range(5, 100, 5)\n",
        "objective = []\n",
        "for num_steps in steps:\n",
        "    solver, _ = build_solver(umax, x0, T, num_steps)\n",
        "    solver.Solve()\n",
        "    objective.append(solver.Objective().Value())\n",
        "\n",
        "plt.figure()\n",
        "plt.plot(steps, objective, '.-')\n",
        "None"
      ]
    },
    {
      "cell_type": "markdown",
      "id": "4adc5490",
      "metadata": {
        "id": "4adc5490"
      },
      "source": [
        "### P3.2.3 Adding an obstacle [8 points]\n",
        "\n",
        "In class, we discussed how to add obstacles that the agent needed to avoid. I have provided you with a single rectangular obstacle stored as `obstacle = [xmin, xmax, ymin, ymax]`.\n",
        "\n",
        "**TASK** Extend the `build_solver` function to accept a list of obstacles: `build_solver(umax, x0, T, num_steps, obstacles=[])`. This requires that you add additional constraints to ensure that the robot does not enter the obstacle (for all times). See the lecture slides for how to do this by adding an additional \"slack variable\". Also, don't forget that avoiding an obstacle needs to happen at every time step; you will need to add constraints for every `x` in `xs`. When the list of obstacles is empty, no constraints should be added.\n",
        "\n",
        "**PLOTS** Run the plotting code below and include the plots in your writeup. (There should be a total of 4.)\n",
        "\n",
        "**RESULTS** Also include in your writeup the objective values generated as you run the plotting code.\n",
        "\n",
        "**CODE** Include in your writeup a block of code in which you add the obstacle constraints (you do not need to include all of `build_solver`)."
      ]
    },
    {
      "cell_type": "code",
      "execution_count": 77,
      "id": "d964a882",
      "metadata": {
        "id": "d964a882",
        "colab": {
          "base_uri": "https://localhost:8080/",
          "height": 1000
        },
        "outputId": "d648dfcd-bb4a-4fd9-960b-8b7842c5b3a5"
      },
      "outputs": [
        {
          "output_type": "stream",
          "name": "stdout",
          "text": [
            "Objective value = 3.5665665193912632\n",
            "Objective value = 0.4197435897435897\n",
            "Objective value = 3.49629493087558\n",
            "Objective value = 0.40449824287387726\n"
          ]
        },
        {
          "output_type": "display_data",
          "data": {
            "text/plain": [
              "<Figure size 432x288 with 1 Axes>"
            ],
            "image/png": "[encoded data removed]"
          },
          "metadata": {
            "needs_background": "light"
          }
        },
        {
          "output_type": "display_data",
          "data": {
            "text/plain": [
              "<Figure size 432x288 with 1 Axes>"
            ],
            "image/png": "[encoded data removed]"
          },
          "metadata": {
            "needs_background": "light"
          }
        },
        {
          "output_type": "display_data",
          "data": {
            "text/plain": [
              "<Figure size 432x288 with 1 Axes>"
            ],
            "image/png": "[encoded data removed]"
          },
          "metadata": {
            "needs_background": "light"
          }
        },
        {
          "output_type": "display_data",
          "data": {
            "text/plain": [
              "<Figure size 432x288 with 1 Axes>"
            ],
            "image/png": "[encoded data removed]"
          },
          "metadata": {
            "needs_background": "light"
          }
        }
      ],
      "source": [
        "# Trajectory Solving (with obstacles): Results and Plotting\n",
        "\n",
        "num_steps = 200\n",
        "T = 25\n",
        "umax = 0.4\n",
        "x0_withV = [2, 3, 1, -2]\n",
        "x0_noV = [2, 3, 0, 0]\n",
        "\n",
        "# obstacle = [xmin, xmax, ymin, ymax]\n",
        "obstacles = [[1, 2, -2.5, 2.5]]\n",
        "\n",
        "solver, us = build_solver(umax, x0_withV, T, num_steps, obstacles)\n",
        "status = solver.Solve()\n",
        "replace_and_plot(x0_withV, us, solver, T, num_steps, obstacles)\n",
        "plt.title(\"V not 0\")\n",
        "\n",
        "solver, us = build_solver(umax, x0_noV, T, num_steps, obstacles)\n",
        "status = solver.Solve()\n",
        "replace_and_plot(x0_noV, us, solver, T, num_steps, obstacles)\n",
        "plt.title(\"V = 0\")\n",
        "\n",
        "solver, us = build_solver(umax, x0_withV, T, num_steps, obstacles=[])\n",
        "status = solver.Solve()\n",
        "replace_and_plot(x0_withV, us, solver, T, num_steps, obstacles=[])\n",
        "plt.title(\"V not 0\")\n",
        "\n",
        "solver, us = build_solver(umax, x0_noV, T, num_steps, obstacles=[])\n",
        "status = solver.Solve()\n",
        "replace_and_plot(x0_noV, us, solver, T, num_steps, obstacles=[])\n",
        "plt.title(\"V = 0\")\n",
        "\n",
        "None"
      ]
    },
    {
      "cell_type": "markdown",
      "id": "6a2d990f",
      "metadata": {
        "id": "6a2d990f"
      },
      "source": [
        "## P3.3: PDDL\n",
        "\n",
        "In class, we talked about PDDL as a language for representing task planning problems. While you won't be implementing the solver itself, in this problem you'll be using [Fast Downward](https://www.fast-downward.org/HomePage), an off-the-shelf PDDL solver.\n",
        "\n",
        "### P3.3.1 Running Fast Downward [4 points]\n",
        "\n",
        "To begin, I have provided you with an example PDDL domain for you to experiment with. \n",
        "I have provided you with a Dockerfile that builds the code and starts a bash session inside the container, where you can run the example code. The `pddl` folder inside the same folder that contains this jupyter notebook is mounted inside the container: you can edit those files while Docker is running and those changes will appear inside.\n",
        "\n",
        "**TASK** Download and build Fast Downward. I have provided you with a Dockerfile that includes the installation and also includes [the Downward Benchmarks](https://github.com/aibasel/downward-benchmarks). Run `make downward` to build the code and start `bash` session inside the Docker container, where you will be running `./fast-downward.py`.\n",
        "\n",
        "**TASK** Run the following examples code blocks [Note: The following bash commands are set up so that if you have just run `make downward`, you should be able to just paste each in your terminal.]\n",
        "\n",
        "```bash\n",
        "./fast-downward.py \\\n",
        "  pddl-benchmark-examples/blocks/domain.pddl \\\n",
        "  pddl-benchmark-examples/blocks/probBLOCKS-10-0.pddl \\\n",
        "  --search \"astar(ipdb())\"\n",
        "```\n",
        "\n",
        "```bash\n",
        "./fast-downward.py \\\n",
        "  pddl-benchmark-examples/blocks/domain.pddl \\\n",
        "  pddl-benchmark-examples/blocks/probBLOCKS-10-0.pddl \\\n",
        "  --evaluator \"hff=ff()\" --search \"lazy_greedy([hff], preferred=[hff])\"\n",
        "```\n",
        "\n",
        "**RESULTS** For each code block, include in your writeup (1) the length of the completed plans and (2) the number of expanded states and (3) the total run time. The two different blocks are each running `astar` (optimal) and the `ff` heuristic (not optimal).\n",
        "\n",
        "**QUESTION** (2-4 sentences) When would you prefer to use each planner? (Discuss their relative advantages.)\n",
        "\n",
        "### P3.3.2 An Example PDDL Problem [8 points]\n",
        "\n",
        "[Question adapted from MIT 16.412](https://ocw.mit.edu/courses/aeronautics-and-astronautics/16-412j-cognitive-robotics-spring-2016/assignments/MIT16_412JS16_Assignment4.pdf) I really loved this problem from 16.412—and in part because I enjoy Star Trek—so I've simplified it a bit and adapted it for this course.\n",
        "\n",
        "> Scenario: Planet Levinia needs your help! As a freshly minted Starfleet Academy\n",
        "graduate in charge of your own galaxy-class starship, the USS Enterprise, your first\n",
        "mission has been assigned by Admiral Smailliw Nairb himself. You are to travel to the\n",
        "planet Levinia, and rescue a group of civilians that are in danger from temporal\n",
        "anomalies. There is a deadline though, after which you will be unable to rescue the\n",
        "population.\n",
        "\n",
        "Your mission is to reach the planet Levinia in fewer than 400 time steps. However it will take you at least 500 time steps to get there on the impulse drive and the faster-than-light \"warp drive\" is broken. The Enterprise requires new parts that are strewn around the system if it is to have any hope of reaching the system in time.\n",
        "\n",
        "Here's a rough map showing the travel \"distances\" between the various systems (from the MIT course):\n",
        "![The Final Frontier](trek_across_the_galaxy.png)\n",
        "\n",
        "I have provided you with some starter PDDL code that implements a version of this scenario without a warp drive. You can run the code via:\n",
        "\n",
        "```lisp\n",
        "./fast-downward.py \\\n",
        "  pddl/impulse-space-domain.pddl \\\n",
        "  pddl/impulse-space-problem.pddl \\\n",
        "  --search \"astar(ipdb())\"\n",
        "```\n",
        "\n",
        "**RESULTS** Include in your writeup the actions that minimize the total cost (which you get by running the included PDDL code), \n",
        "\n",
        "You may want to take a look over the code before moving forward, since it will be your starter code to solve the more general problem. First, there are a number of \"types\" that define objects:\n",
        "```lisp\n",
        "(:types location locatable - object\n",
        "\tship supply - locatable\n",
        "\tplasmaconduit plasmainjector warpcoil dilithium medicalsupply - supply)\n",
        "```\n",
        "The version of PDDL we are using, the type of the object limits how those objects can be used: when the arguments of an action or predicate come with a type, only objects of that type can be passed to that argument. For example, the `travel-impulse-speed` action takes `?s - ship, ?l1 - location, ?l2 - location`, which means that only a ship and two locations can be passed to it.\n",
        "\n",
        "In the `problem` definition, I have provided you with (1) a list of objects that exist in the world and (2) an initialization, which specifies the starting configuration of all the objects.\n",
        "\n",
        "**TASK** Implement the remainder of the scenario, in which the Enterprise picks up the . You may need the following information:\n",
        "\n",
        "For the full task, you will need to have implemented the following actions:\n",
        "- `travel-impulse-speed` Arguments: `?s - ship ?l1 - location ?l2 - location`. Description: Ship ?s moves from ?l1 to ?l2 at impulse speed; the adjacency and the travel costs are already included in the problem pddl file.\n",
        "- [new] `travel-warp-speed` Arguments: `?s - ship ?l1 - location ?l2 - location`. Description: Ship ?s moves from ?l1 to ?l2 at warp speed (requiring that the warp drive is active); the adjacency and the travel costs are already included in the problem pddl file. Costs: given by `(warp-distance l1 l2)`, I've already provided you with these.\n",
        "- [new] `beam-up-supplies` Arguments: `?s - ship ?l - location ?p - supply` Ship ?s at location ?l beams up supplies ?p. Once the action is complete, the supplies are onboard the ship. Requires the away team. Cost: 1.\n",
        "- [new] `enable-warp-drive` Arguments: `?s - ship, ?pc - plasmaconduit, ?pi - plasmainjector, ?wc - warpcoil, ?di - dilithium`. Description: All of these supplies must be onboard ship ?s (you may want to define a new predicate for this: `on-ship`) and attached in the proper configuration. This action powers up the warp drive, enabling flight at warp speed afterwards. Cost: 3.\n",
        "\n",
        "In addition, here is where the supplies are located (information that you should include in the `:init` block): \n",
        "\n",
        "|Thing | Type | Initial location|\n",
        "| --- | --- | --- |\n",
        "|enterprise | ship | earth|\n",
        "|plasmaconduit1 |plasmaconduit |vulcan|\n",
        "|plasmainjector1 |plasmainjector| betazed|\n",
        "|warpcoil1 |warpcoil| qonos|\n",
        "|dilithium1| dilithium| ferenginar|\n",
        "\n",
        "You are not limited in whatever else you feel is necessary to add to solve the problem; add any predicates, functions, or other PDDL features at your discretion. \n",
        "\n",
        "**CODE** Include your new action definitions in your writeup. (Also make sure you include your completed domain/problem files in the zip file containing your code.)\n",
        "\n",
        "**RESULTS** Include in your writeup the action sequence recovered by the AStar planner in Fast Downward. Also include the total path cost (and did the Enterprise make it to the planet in time?)"
      ]
    },
    {
      "cell_type": "code",
      "execution_count": null,
      "id": "ff9cea07",
      "metadata": {
        "id": "ff9cea07"
      },
      "outputs": [],
      "source": [
        ""
      ]
    }
  ],
  "metadata": {
    "kernelspec": {
      "display_name": "Python 3",
      "name": "python3"
    },
    "language_info": {
      "name": "python"
    },
    "colab": {
      "name": "P3_milp_pddl.ipynb",
      "provenance": [],
      "collapsed_sections": [
        "suQAk5niJAyD"
      ]
    }
  },
  "nbformat": 4,
  "nbformat_minor": 5
}