{
 "cells": [
  {
   "cell_type": "markdown",
   "id": "e9370289",
   "metadata": {},
   "source": [
    "# L03.B: Constraint-Based Planning\n",
    "\n",
    "Today we'll play around a bit with constraint-based optimization and some other knowledge prerequisite for your programming assignment. First, we will explore [Google's OR-Tools python package](https://developers.google.com/optimization) that has a lot of convenient utilities for solving Linear Programs (LPs) and Mixed Integer Linear Programs (MILPs).\n",
    "\n",
    "### L03B.1.1: LP Example 1\n",
    "\n",
    "Here is one of the examples from lecture:\n",
    "\n",
    "$$\n",
    "\\begin{split}\n",
    "\\text{max}\\,\\,\\, & z = x_1 + 2 x_2 = (1, 2) \\cdot (x_1, x_2) \\\\\n",
    " \\text{s.t.}\\,\\,\\, & x_1 \\leq 3, \\\\\n",
    " & x_1 + x_2 \\leq 5.5, \\\\\n",
    " & x_1, x_2 \\geq 0\n",
    "\\end{split}\n",
    "$$\n",
    "\n",
    "**TASK** Run the code below and confirm you get the same values I did."
   ]
  },
  {
   "cell_type": "code",
   "execution_count": 3,
   "id": "732c8dd9",
   "metadata": {},
   "outputs": [
    {
     "name": "stdout",
     "output_type": "stream",
     "text": [
      "Solution:\n",
      "  Objective value:  11.0\n",
      "  Number of variables:  2\n",
      "    x1 == 0.0\n",
      "    x2 == 5.5\n"
     ]
    }
   ],
   "source": [
    "from ortools.linear_solver import pywraplp\n",
    "\n",
    "solver = pywraplp.Solver.CreateSolver('SCIP')\n",
    "infinity = solver.infinity()\n",
    "\n",
    "# Define your variables (and their domains)\n",
    "x1 = solver.NumVar(0, infinity, 'x1')\n",
    "x2 = solver.NumVar(0, infinity, 'x2')\n",
    "\n",
    "# Add the constraints and the objective\n",
    "solver.Add(x1 <= 3)\n",
    "solver.Add(x1 + x2 <= 5.5)\n",
    "solver.Maximize(x1 + 2 * x2)\n",
    "\n",
    "# Solve\n",
    "status = solver.Solve()\n",
    "\n",
    "# Print the outputs\n",
    "if status == pywraplp.Solver.OPTIMAL:\n",
    "    print('Solution:')\n",
    "    print('  Objective value: ', solver.Objective().Value())\n",
    "    print('  Number of variables: ', solver.NumVariables())\n",
    "    for var in solver.variables():\n",
    "        print(f'    {var.name()} == {var.solution_value()}')\n",
    "else:\n",
    "    print('The problem does not have an optimal solution.')"
   ]
  },
  {
   "cell_type": "markdown",
   "id": "1b2249b4",
   "metadata": {},
   "source": [
    "### L03B.1.2: LP Example 2\n",
    "\n",
    "Let's try another; the same equation but in standard form:\n",
    "\n",
    "$$\n",
    "\\begin{split}\n",
    "\\text{max}\\,\\,\\, & z = x_1 + 2 x_2 = (1, 2) \\cdot (x_1, x_2) \\\\\n",
    " \\text{s.t.}\\,\\,\\, & x_1 + x_3 = 3, \\\\\n",
    " & x_1 + x_2 + x_4 = 5.5, \\\\\n",
    " & x_1, x_2, x_3, x_4 \\geq 0\n",
    "\\end{split}\n",
    "$$\n",
    "\n",
    "**TASK** Implement this new linear program. Do you get the same values for x1 and x2? What are the values for the other variables and what do they represent? How are these two problems/programs related?\n",
    "\n",
    "**BONUS TASK** Switch this over to an \"integer program\". See the documentation for how to constrain the variables to be integers only: https://developers.google.com/optimization/mip/mip_example\n",
    "\n",
    "You might also be interested in the doc page on Linear Programs: https://developers.google.com/optimization/lp/lp_example"
   ]
  },
  {
   "cell_type": "markdown",
   "id": "79f7db74",
   "metadata": {},
   "source": [
    "## L03B.2 Computing a Trajectory Given Thrusts (from P2)\n",
    "\n",
    "Before we get to optimization, we will start by computing the trajectory of a simple 1D space vehicle given known thrusts. Given known thrusts and an initial position and velocity it is possible to compute the position and velocity of the vehicle at all times. Below, I have provided you with some starter code that provides you with `x0 = [position, velocity]` and a list of thrusts `us` at every time.\n",
    "\n",
    "The following line of linear algebra represents the update rule between steps:\n",
    "\n",
    "$$ x_{t+1} = A_d x_t + B_d u_t $$\n",
    "\n",
    "**TASK** Complete the code below by replacing the `NotImplementedError` with linear algebra. See the lecture slides for more details about the geometry.\n",
    "\n",
    "The final position is -1.375 and the final velocity is 0.0. Be sure that your implementation matches these values.\n",
    "\n",
    "**PLOTS** Run the plotting code below your completed implementation and include the resulting plots in your writeup."
   ]
  },
  {
   "cell_type": "code",
   "execution_count": 4,
   "id": "b30c9560",
   "metadata": {},
   "outputs": [],
   "source": [
    "## Breaking down an example without optimization\n",
    "\n",
    "import numpy as np\n",
    "import matplotlib.pyplot as plt\n",
    "\n",
    "num_steps = 100\n",
    "T = 25\n",
    "dt = T / num_steps\n",
    "\n",
    "# Define the matrices\n",
    "Ad = np.array([[1, dt],\n",
    "               [0, 1]])\n",
    "dt2 = dt*dt/2\n",
    "Bd = np.array([[dt2, -dt2],\n",
    "               [dt, -dt]])\n",
    "\n",
    "# Define the starting condition & control input\n",
    "x0 = [3, -2]\n",
    "us = np.array([[0.2, 0]]*50 + [[0, 0]]*30 + [[0, 0.1]]*20)\n",
    "\n",
    "# TODO: Compute each state from the initial state and the thrust values\n",
    "# Output: 'xs' is expected to be a list of 'x' position/velocities over time\n",
    "def solve(x0):\n",
    "    x = x0\n",
    "    xs = [x]\n",
    "    for u in us:\n",
    "        raise NotImplementedError()\n",
    "        xs.append(x)\n",
    "\n",
    "    return np.array(xs)"
   ]
  },
  {
   "cell_type": "code",
   "execution_count": 6,
   "id": "79bac762",
   "metadata": {},
   "outputs": [
    {
     "ename": "NotImplementedError",
     "evalue": "",
     "output_type": "error",
     "traceback": [
      "\u001b[0;31m---------------------------------------------------------------------------\u001b[0m",
      "\u001b[0;31mNotImplementedError\u001b[0m                       Traceback (most recent call last)",
      "Cell \u001b[0;32mIn[6], line 2\u001b[0m\n\u001b[1;32m      1\u001b[0m \u001b[38;5;66;03m# Plotting Code  \u001b[39;00m\n\u001b[0;32m----> 2\u001b[0m xs \u001b[38;5;241m=\u001b[39m \u001b[43msolve\u001b[49m\u001b[43m(\u001b[49m\u001b[43mx0\u001b[49m\u001b[43m)\u001b[49m\n\u001b[1;32m      4\u001b[0m \u001b[38;5;28mprint\u001b[39m(\u001b[38;5;124mf\u001b[39m\u001b[38;5;124m\"\u001b[39m\u001b[38;5;124mFinal Position=\u001b[39m\u001b[38;5;132;01m{\u001b[39;00mxs[\u001b[38;5;241m-\u001b[39m\u001b[38;5;241m1\u001b[39m,\u001b[38;5;250m \u001b[39m\u001b[38;5;241m0\u001b[39m]\u001b[38;5;132;01m:\u001b[39;00m\u001b[38;5;124m.3f\u001b[39m\u001b[38;5;132;01m}\u001b[39;00m\u001b[38;5;124m and Velocitiy=\u001b[39m\u001b[38;5;132;01m{\u001b[39;00mxs[\u001b[38;5;241m-\u001b[39m\u001b[38;5;241m1\u001b[39m,\u001b[38;5;250m \u001b[39m\u001b[38;5;241m1\u001b[39m]\u001b[38;5;132;01m:\u001b[39;00m\u001b[38;5;124m.3f\u001b[39m\u001b[38;5;132;01m}\u001b[39;00m\u001b[38;5;124m\"\u001b[39m)\n\u001b[1;32m      5\u001b[0m fig \u001b[38;5;241m=\u001b[39m plt\u001b[38;5;241m.\u001b[39mfigure(figsize\u001b[38;5;241m=\u001b[39m(\u001b[38;5;241m6\u001b[39m, \u001b[38;5;241m6\u001b[39m), dpi\u001b[38;5;241m=\u001b[39m\u001b[38;5;241m100\u001b[39m)\n",
      "Cell \u001b[0;32mIn[4], line 27\u001b[0m, in \u001b[0;36msolve\u001b[0;34m(x0)\u001b[0m\n\u001b[1;32m     25\u001b[0m xs \u001b[38;5;241m=\u001b[39m [x]\n\u001b[1;32m     26\u001b[0m \u001b[38;5;28;01mfor\u001b[39;00m u \u001b[38;5;129;01min\u001b[39;00m us:\n\u001b[0;32m---> 27\u001b[0m     \u001b[38;5;28;01mraise\u001b[39;00m \u001b[38;5;167;01mNotImplementedError\u001b[39;00m()\n\u001b[1;32m     28\u001b[0m     xs\u001b[38;5;241m.\u001b[39mappend(x)\n\u001b[1;32m     30\u001b[0m \u001b[38;5;28;01mreturn\u001b[39;00m np\u001b[38;5;241m.\u001b[39marray(xs)\n",
      "\u001b[0;31mNotImplementedError\u001b[0m: "
     ]
    }
   ],
   "source": [
    "# Plotting Code  \n",
    "xs = solve(x0)\n",
    "\n",
    "print(f\"Final Position={xs[-1, 0]:.3f} and Velocitiy={xs[-1, 1]:.3f}\")\n",
    "fig = plt.figure(figsize=(6, 6), dpi=100)\n",
    "ax = plt.subplot(311)\n",
    "ax.plot(range(len(us) + 1), xs[:, 0])\n",
    "ax.set_ylabel(\"Position\")\n",
    "ax = plt.subplot(312)\n",
    "ax.plot(range(len(us) + 1), xs[:, 1])\n",
    "ax.set_ylabel(\"Velocity\")\n",
    "ax = plt.subplot(313)\n",
    "ax.plot(range(len(us)), us[:, 0] - us[:, 1])=\n",
    "ax.set_ylabel(\"Velocity\")\n",
    "\n",
    "# Position check\n",
    "assert abs(xs[-1, 0] + 1.375) < 1e-5\n",
    "# Velocity check\n",
    "assert abs(xs[-1, 1]) < 1e-5\n",
    "\n",
    "None"
   ]
  },
  {
   "cell_type": "code",
   "execution_count": null,
   "id": "77a4224c-fcfd-4813-bb4c-d92d1bfc52f8",
   "metadata": {},
   "outputs": [],
   "source": []
  }
 ],
 "metadata": {
  "kernelspec": {
   "display_name": "Python 3 (ipykernel)",
   "language": "python",
   "name": "python3"
  },
  "language_info": {
   "codemirror_mode": {
    "name": "ipython",
    "version": 3
   },
   "file_extension": ".py",
   "mimetype": "text/x-python",
   "name": "python",
   "nbconvert_exporter": "python",
   "pygments_lexer": "ipython3",
   "version": "3.10.12"
  }
 },
 "nbformat": 4,
 "nbformat_minor": 5
}
